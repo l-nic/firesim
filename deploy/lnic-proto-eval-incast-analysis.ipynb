{
 "cells": [
  {
   "cell_type": "code",
   "execution_count": 1,
   "id": "73ea9a46",
   "metadata": {},
   "outputs": [],
   "source": [
    "import os\n",
    "import pandas as pd\n",
    "import seaborn as sns\n",
    "import matplotlib.pyplot as plt\n",
    "import log2csv"
   ]
  },
  {
   "cell_type": "code",
   "execution_count": 2,
   "id": "2ac9ecf0",
   "metadata": {},
   "outputs": [],
   "source": [
    "clock_rate_hz = 3.2e9\n",
    "\n",
    "bw_bps = 200e9\n",
    "link_delay_sec = 280 / clock_rate_hz\n",
    "payload_size_bytes = 1024\n",
    "mtu_bytes = 1088\n",
    "\n",
    "# TODO: Calculate the time between a packet is transmitted\n",
    "#       by the end host, and it arrives at the bottleneck\n",
    "#       switch. TOPOLOGY SPECIFIC PARAMETER\n",
    "time_to_switch_from_sender_sec = mtu_bytes * 8 / bw_bps + link_delay_sec\n",
    "time_to_receiver_from_switch_sec = mtu_bytes * 8 / bw_bps + link_delay_sec\n",
    "\n",
    "save_figs = False\n",
    "save_folder = './'"
   ]
  },
  {
   "cell_type": "code",
   "execution_count": 3,
   "id": "8ad1cc88",
   "metadata": {},
   "outputs": [],
   "source": [
    "data = {}\n",
    "data['93KB'] = {}\n",
    "# Add protocols to be analyzed into the data\n",
    "data['93KB']['LNIC'] = {\n",
    "    'switchlog': \"../../../software/local_firesim/logs/recent/switchlog\" }\n",
    "\n",
    "buff_sizes = list(data.keys())\n",
    "protocol_names = list(data[buff_sizes[0]].keys())"
   ]
  },
  {
   "cell_type": "code",
   "execution_count": 4,
   "id": "72273051",
   "metadata": {},
   "outputs": [],
   "source": [
    "def client_ip_to_id(client_ip):\n",
    "    return int(client_ip.split('.')[-1]) - 3 "
   ]
  },
  {
   "cell_type": "code",
   "execution_count": 5,
   "id": "60718324",
   "metadata": {},
   "outputs": [],
   "source": [
    "for buff_size in data.keys(): \n",
    "    for proto in data[buff_size].keys(): \n",
    "        stats = log2csv.parse_switchlog(data[buff_size][proto]['switchlog'])\n",
    "        qsize, _, _, _, pkt_trace = stats\n",
    "\n",
    "        qsize_df = pd.DataFrame(qsize, dtype=float)\n",
    "        qsize_df = qsize_df[qsize_df.port == 0] # switch port only\n",
    "        qsize_df['time_sec'] = qsize_df.time / clock_rate_hz\n",
    "        data[buff_size][proto]['qsize_df'] = qsize_df[['time','time_sec','tot_bytes']]\n",
    "\n",
    "        pkt_trace_df = pd.DataFrame(pkt_trace, dtype=float)\n",
    "        trace_proto = pd.unique(pkt_trace_df.proto)\n",
    "        assert len(trace_proto) == 1, \"ERROR: Trace has packets for multiple protocols!\"\n",
    "        trace_proto = trace_proto[0]\n",
    "        assert trace_proto == proto, \"ERROR: Trace belogs to a different protocol!\"\n",
    "        pkt_trace_df = pkt_trace_df[pkt_trace_df.flags == 'DATA'] # data pkts only\n",
    "        pkt_trace_df['msg_len_pkts'] = pkt_trace_df.msg_len_bytes / payload_size_bytes\n",
    "        pkt_trace_df['time_sec'] = pkt_trace_df.time / clock_rate_hz\n",
    "        data[buff_size][proto]['pkt_trace_df'] = pkt_trace_df"
   ]
  },
  {
   "cell_type": "markdown",
   "id": "e1f76e19",
   "metadata": {},
   "source": [
    "# Slow Down Analysis"
   ]
  },
  {
   "cell_type": "code",
   "execution_count": 6,
   "id": "d31903c4",
   "metadata": {},
   "outputs": [],
   "source": [
    "for buff_size in data.keys(): \n",
    "    for proto in data[buff_size].keys(): \n",
    "        data[buff_size][proto]['msgs'] = {'proto': [], 'buff_size': [],\n",
    "                                          'msg_idx': [],\n",
    "                                          'msg_size_pkts':[],\n",
    "                                          'start_time_sec': [],\n",
    "                                          'fin_time_sec':[],\n",
    "                                          'mct': [], 'ict': [],\n",
    "                                          'slowdown': []}\n",
    "        \n",
    "        qsize_df = data[buff_size][proto]['qsize_df']\n",
    "        pkt_trace_df = data[buff_size][proto]['pkt_trace_df']\n",
    "        for (src_ip, src_port), msg_df in pkt_trace_df.groupby(['src_ip','src_context']):\n",
    "            \n",
    "            data[buff_size][proto]['msgs']['proto'].append(proto)\n",
    "            data[buff_size][proto]['msgs']['buff_size'].append(buff_size)\n",
    "            \n",
    "            msg_idx = client_ip_to_id(src_ip)\n",
    "            data[buff_size][proto]['msgs']['msg_idx'].append(msg_idx)\n",
    "            \n",
    "            msg_len_pkts = pd.unique(msg_df.msg_len_pkts)\n",
    "            assert len(msg_len_pkts) == 1\n",
    "            msg_len_pkts = int(msg_len_pkts[0])\n",
    "            data[buff_size][proto]['msgs']['msg_size_pkts'].append(msg_len_pkts)\n",
    "            \n",
    "            start_time = msg_df.time_sec.min() - time_to_switch_from_sender_sec\n",
    "            data[buff_size][proto]['msgs']['start_time_sec'].append(start_time)\n",
    "            \n",
    "            pkt_bitmap = [False] * msg_len_pkts\n",
    "            fin_time = None\n",
    "            for _, pkt in msg_df.iterrows():\n",
    "                pkt_bitmap[int(pkt['pkt_offset'])] = True\n",
    "                if (all(pkt_bitmap)):\n",
    "                    fin_time = pkt['time_sec'] \\\n",
    "                              + qsize_df[qsize_df.time_sec==pkt['time_sec']].tot_bytes.max() * 8 / bw_bps \\\n",
    "                              + time_to_receiver_from_switch_sec\n",
    "                    break\n",
    "            fin_time = start_time if (not fin_time) else fin_time\n",
    "            data[buff_size][proto]['msgs']['fin_time_sec'].append(fin_time)\n",
    "            \n",
    "            mct = fin_time - start_time\n",
    "            data[buff_size][proto]['msgs']['mct'].append(mct)\n",
    "            \n",
    "            ict = (msg_len_pkts-1) * mtu_bytes * 8 / bw_bps \\\n",
    "                 + time_to_switch_from_sender_sec \\\n",
    "                 + time_to_receiver_from_switch_sec\n",
    "            data[buff_size][proto]['msgs']['ict'].append(ict)\n",
    "            \n",
    "            data[buff_size][proto]['msgs']['slowdown'].append(mct/ict)\n",
    "            \n",
    "        data[buff_size][proto]['msgs'] =  pd.DataFrame(data[buff_size][proto]['msgs'],\n",
    "                                                       dtype=float)\n",
    "        \n",
    "all_msgs_df = None\n",
    "for buff_size in data.keys(): \n",
    "    for proto in data[buff_size].keys():\n",
    "        if (not all_msgs_df):\n",
    "            all_msgs_df = data[buff_size][proto]['msgs']\n",
    "        else:\n",
    "            all_msgs_df = pd.concat([all_msgs_df, data[buff_size][proto]['msgs']],\n",
    "                                    ignore_index=True)"
   ]
  },
  {
   "cell_type": "code",
   "execution_count": 7,
   "id": "dfab541a",
   "metadata": {},
   "outputs": [
    {
     "data": {
      "image/png": "[encoded data removed]",
      "text/plain": [
       "<Figure size 518.4x432 with 1 Axes>"
      ]
     },
     "metadata": {
      "needs_background": "light"
     },
     "output_type": "display_data"
    }
   ],
   "source": [
    "fontsize = 14\n",
    "sns.set_context(\"paper\", \n",
    "                rc={\"font.size\":fontsize,\n",
    "                    \"axes.titlesize\":fontsize*1.5,\n",
    "                    \"axes.labelsize\":fontsize*1.2}) \n",
    "\n",
    "g = sns.catplot(data = all_msgs_df, x = \"msg_idx\", y = \"slowdown\",\n",
    "                hue = \"proto\", hue_order=protocol_names, \n",
    "                col = \"buff_size\", kind = \"bar\", \n",
    "                legend=True, legend_out=False,\n",
    "                height=6, aspect=1.2)\n",
    "g.set_axis_labels(\"Msg ID\", \"Slow Downs\")\n",
    "g.set_titles('Buffer Size = {col_name}')\n",
    "g.add_legend(title='Protocol', label_order=protocol_names,\n",
    "             fontsize=fontsize, frameon=False)\n",
    "st = plt.suptitle('Slow Downs of Protocols on Different Bottleneck Buffer Sizes',\n",
    "                  y=1.03, fontsize=fontsize*1.5)\n",
    "plt.tight_layout()\n",
    "if (save_figs):\n",
    "    plt.savefig(os.path.join(save_folder, 'LnicProtoEval-MsgSlowDowns.png'), \n",
    "                bbox_extra_artists=[st], bbox_inches='tight')\n",
    "plt.show()"
   ]
  },
  {
   "cell_type": "markdown",
   "id": "f5427227",
   "metadata": {},
   "source": [
    "# Queue Size Analysis"
   ]
  },
  {
   "cell_type": "code",
   "execution_count": 8,
   "id": "90e78214",
   "metadata": {},
   "outputs": [
    {
     "data": {
      "image/png": "[encoded data removed]",
      "text/plain": [
       "<Figure size 864x288 with 1 Axes>"
      ]
     },
     "metadata": {
      "needs_background": "light"
     },
     "output_type": "display_data"
    }
   ],
   "source": [
    "fontsize = 14\n",
    "fig, ax = plt.subplots(1,len(buff_sizes),\n",
    "                       figsize=(12,4), sharey=True)\n",
    "if (len(buff_sizes)==1):\n",
    "    ax = [ax]\n",
    "i=1\n",
    "for buff_size in data.keys(): \n",
    "    plt.sca(ax[len(buff_sizes)-i])\n",
    "    for proto, proto_data in data[buff_size].items():\n",
    "        qsize_df = proto_data['qsize_df']\n",
    "        qsize_df = qsize_df[qsize_df.time_sec != 0]\n",
    "        trc_start_time = qsize_df.time_sec.min() - time_to_switch_from_sender_sec\n",
    "        plt.step((qsize_df.time_sec - trc_start_time) * 1e6,\n",
    "                 qsize_df.tot_bytes / 1e3,\n",
    "                 label = proto, linewidth=3., where='post',\n",
    "                 c='C'+str(protocol_names.index(proto)))\n",
    "        \n",
    "        if (i==len(buff_sizes)): \n",
    "            plt.ylabel('Queue Occupancy (KB)',fontsize=fontsize)\n",
    "        plt.xlabel('Time (us)',fontsize=fontsize)\n",
    "        plt.gca().spines[\"right\"].set_visible(False)\n",
    "        plt.gca().spines[\"top\"].set_visible(False)\n",
    "        plt.title('Buffer Size = {}'.format(buff_size), fontsize=fontsize)\n",
    "    i += 1\n",
    "    \n",
    "handles, labels = plt.gca().get_legend_handles_labels()\n",
    "order = [labels.index(protocol) for protocol in protocol_names]\n",
    "plt.legend([handles[idx] for idx in order],[labels[idx] for idx in order],\n",
    "           title='Protocol', fontsize=fontsize, \n",
    "           frameon=False, markerscale=2.0)\n",
    "# plt.grid()\n",
    "st = plt.suptitle('Bottleneck Queue Occupancy with Different Protocols',\n",
    "                  y=1.03, fontsize=fontsize*1.5)\n",
    "plt.tight_layout()\n",
    "if (save_figs):\n",
    "    plt.savefig(os.path.join(save_folder, 'LnicProtoEval-QueueOccupancy.png'), \n",
    "                bbox_extra_artists=[st], bbox_inches='tight')\n",
    "plt.show()"
   ]
  },
  {
   "cell_type": "code",
   "execution_count": 10,
   "id": "20b61344",
   "metadata": {},
   "outputs": [
    {
     "data": {
      "text/html": [
       "<div>\n",
       "<style scoped>\n",
       "    .dataframe tbody tr th:only-of-type {\n",
       "        vertical-align: middle;\n",
       "    }\n",
       "\n",
       "    .dataframe tbody tr th {\n",
       "        vertical-align: top;\n",
       "    }\n",
       "\n",
       "    .dataframe thead th {\n",
       "        text-align: right;\n",
       "    }\n",
       "</style>\n",
       "<table border=\"1\" class=\"dataframe\">\n",
       "  <thead>\n",
       "    <tr style=\"text-align: right;\">\n",
       "      <th></th>\n",
       "      <th>time</th>\n",
       "      <th>time_sec</th>\n",
       "      <th>tot_bytes</th>\n",
       "    </tr>\n",
       "  </thead>\n",
       "  <tbody>\n",
       "    <tr>\n",
       "      <th>0</th>\n",
       "      <td>0.0</td>\n",
       "      <td>0.000000</td>\n",
       "      <td>0.0</td>\n",
       "    </tr>\n",
       "    <tr>\n",
       "      <th>11</th>\n",
       "      <td>14618.0</td>\n",
       "      <td>0.000005</td>\n",
       "      <td>1088.0</td>\n",
       "    </tr>\n",
       "    <tr>\n",
       "      <th>12</th>\n",
       "      <td>14618.0</td>\n",
       "      <td>0.000005</td>\n",
       "      <td>2176.0</td>\n",
       "    </tr>\n",
       "    <tr>\n",
       "      <th>13</th>\n",
       "      <td>14618.0</td>\n",
       "      <td>0.000005</td>\n",
       "      <td>3264.0</td>\n",
       "    </tr>\n",
       "    <tr>\n",
       "      <th>14</th>\n",
       "      <td>14618.0</td>\n",
       "      <td>0.000005</td>\n",
       "      <td>4352.0</td>\n",
       "    </tr>\n",
       "    <tr>\n",
       "      <th>...</th>\n",
       "      <td>...</td>\n",
       "      <td>...</td>\n",
       "      <td>...</td>\n",
       "    </tr>\n",
       "    <tr>\n",
       "      <th>690</th>\n",
       "      <td>44520.0</td>\n",
       "      <td>0.000014</td>\n",
       "      <td>28288.0</td>\n",
       "    </tr>\n",
       "    <tr>\n",
       "      <th>695</th>\n",
       "      <td>44800.0</td>\n",
       "      <td>0.000014</td>\n",
       "      <td>26112.0</td>\n",
       "    </tr>\n",
       "    <tr>\n",
       "      <th>700</th>\n",
       "      <td>45080.0</td>\n",
       "      <td>0.000014</td>\n",
       "      <td>23936.0</td>\n",
       "    </tr>\n",
       "    <tr>\n",
       "      <th>705</th>\n",
       "      <td>45360.0</td>\n",
       "      <td>0.000014</td>\n",
       "      <td>21760.0</td>\n",
       "    </tr>\n",
       "    <tr>\n",
       "      <th>710</th>\n",
       "      <td>45640.0</td>\n",
       "      <td>0.000014</td>\n",
       "      <td>19584.0</td>\n",
       "    </tr>\n",
       "  </tbody>\n",
       "</table>\n",
       "<p>269 rows × 3 columns</p>\n",
       "</div>"
      ],
      "text/plain": [
       "        time  time_sec  tot_bytes\n",
       "0        0.0  0.000000        0.0\n",
       "11   14618.0  0.000005     1088.0\n",
       "12   14618.0  0.000005     2176.0\n",
       "13   14618.0  0.000005     3264.0\n",
       "14   14618.0  0.000005     4352.0\n",
       "..       ...       ...        ...\n",
       "690  44520.0  0.000014    28288.0\n",
       "695  44800.0  0.000014    26112.0\n",
       "700  45080.0  0.000014    23936.0\n",
       "705  45360.0  0.000014    21760.0\n",
       "710  45640.0  0.000014    19584.0\n",
       "\n",
       "[269 rows x 3 columns]"
      ]
     },
     "execution_count": 10,
     "metadata": {},
     "output_type": "execute_result"
    }
   ],
   "source": [
    "data[buff_size][proto]['qsize_df']"
   ]
  },
  {
   "cell_type": "code",
   "execution_count": null,
   "id": "396b026d",
   "metadata": {},
   "outputs": [],
   "source": []
  }
 ],
 "metadata": {
  "kernelspec": {
   "display_name": "Python 3",
   "language": "python",
   "name": "python3"
  },
  "language_info": {
   "codemirror_mode": {
    "name": "ipython",
    "version": 3
   },
   "file_extension": ".py",
   "mimetype": "text/x-python",
   "name": "python",
   "nbconvert_exporter": "python",
   "pygments_lexer": "ipython3",
   "version": "3.6.8"
  }
 },
 "nbformat": 4,
 "nbformat_minor": 5
}
